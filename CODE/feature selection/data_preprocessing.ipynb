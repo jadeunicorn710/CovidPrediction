{
 "cells": [
  {
   "cell_type": "code",
   "execution_count": null,
   "metadata": {},
   "outputs": [],
   "source": [
    "#######################################################################################\n",
    "#\n",
    "# Perform data preprocssing for icu and hospitalization prediction\n",
    "# using panda\n",
    "# \n",
    "#######################################################################################"
   ]
  },
  {
   "cell_type": "code",
   "execution_count": null,
   "metadata": {},
   "outputs": [],
   "source": [
    "# data from https://www.kaggle.com/tanmoyx/covid19-patient-precondition-dataset\n",
    "#\n",
    "FILENAME = \"source/covid.csv\"\n",
    "\n",
    "# locatin for data files\n",
    "TARGET = \"../visualization/data/\""
   ]
  },
  {
   "cell_type": "code",
   "execution_count": null,
   "metadata": {},
   "outputs": [],
   "source": [
    "import numpy as np\n",
    "import pandas as pd"
   ]
  },
  {
   "cell_type": "code",
   "execution_count": null,
   "metadata": {},
   "outputs": [],
   "source": [
    "# inspect original data structure\n",
    "#\n",
    "\n",
    "df = pd.read_csv(FILENAME)\n",
    "print(\"Original dataframe shape: \", df.shape)\n",
    "df.head()"
   ]
  },
  {
   "cell_type": "code",
   "execution_count": null,
   "metadata": {
    "scrolled": true
   },
   "outputs": [],
   "source": [
    "# no males who are pregnant (verification only)\n",
    "#\n",
    "\n",
    "df[(df.sex == 2) & (df.pregnancy == 1)]"
   ]
  },
  {
   "cell_type": "code",
   "execution_count": null,
   "metadata": {},
   "outputs": [],
   "source": [
    "# patients whose date of entry is greater than the day they are expired\n",
    "#\n",
    "\n",
    "from datetime import datetime\n",
    "\n",
    "# copy dataframe records without date_died field that has \"9999-99-99\"\n",
    "predf = df[(df.date_died != \"9999-99-99\")].copy() # *** use .copy() beofre to_datetime()\n",
    "print(predf.shape)\n",
    "\n",
    "# convert string to datetime\n",
    "predf.loc[:, \"entry_date\"] = pd.to_datetime(predf.loc[:, \"entry_date\"] , format='%d-%m-%Y', errors='ignore')\n",
    "predf.loc[:, \"date_died\"] = pd.to_datetime(predf.loc[:, \"date_died\"], format='%d-%m-%Y', errors='ignore')\n",
    "\n",
    "print(predf[(predf.entry_date > predf.date_died)].shape)\n",
    "\n",
    "df.drop(predf[(predf.entry_date > predf.date_died)].index, inplace = True)\n",
    "\n",
    "print(df.shape)"
   ]
  },
  {
   "cell_type": "code",
   "execution_count": null,
   "metadata": {},
   "outputs": [],
   "source": [
    "# only include patients with covid-19 positive\n",
    "#\n",
    "\n",
    "df = df[df.covid_res == 1]\n",
    "\n",
    "print(\"COVID-19 only dataframe shape: \", df.shape)\n",
    "df.head()"
   ]
  },
  {
   "cell_type": "code",
   "execution_count": null,
   "metadata": {},
   "outputs": [],
   "source": [
    "all_selected_columns = [\n",
    "    'age',\n",
    "    'sex',\n",
    "    'pneumonia',\n",
    "    'diabetes',\n",
    "    'copd',\n",
    "    'asthma',\n",
    "    'inmsupr',\n",
    "    'hypertension',\n",
    "    'other_disease',\n",
    "    'cardiovascular',\n",
    "    'obesity',\n",
    "    'renal_chronic',\n",
    "    'tobacco',\n",
    "    'icu',   # label\n",
    "    'patient_type'   # label\n",
    "]\n",
    "\n",
    "icu_columns = [\n",
    "    'age',\n",
    "    'sex',\n",
    "    'pneumonia',\n",
    "    'diabetes',\n",
    "    'copd',\n",
    "    'asthma',\n",
    "    'inmsupr',\n",
    "    'hypertension',\n",
    "    'other_disease',\n",
    "    'cardiovascular',\n",
    "    'obesity',\n",
    "    'renal_chronic',\n",
    "    'tobacco',\n",
    "    'icu'   # label\n",
    "]\n",
    "\n",
    "hospitalization_columns = [\n",
    "    'sex',\n",
    "    'patient_type',   # label\n",
    "    'pneumonia',\n",
    "    'age',\n",
    "    'diabetes',\n",
    "    'copd',\n",
    "    'asthma',\n",
    "    'inmsupr',\n",
    "    'hypertension',\n",
    "    'other_disease',\n",
    "    'cardiovascular',\n",
    "    'obesity',\n",
    "    'renal_chronic',\n",
    "    'tobacco'\n",
    "]\n"
   ]
  },
  {
   "cell_type": "code",
   "execution_count": null,
   "metadata": {},
   "outputs": [],
   "source": [
    "# select relevant features and labels from df\n",
    "\n",
    "df_all = df[all_selected_columns].copy()\n",
    "print(\"Selected dataframe shape: \", df_all.shape)\n",
    "df_all.head()"
   ]
  },
  {
   "cell_type": "code",
   "execution_count": null,
   "metadata": {},
   "outputs": [],
   "source": [
    "# convert values to 0, 1 and 2\n",
    "#\n",
    "\n",
    "# female: 0, male: 1\n",
    "df_all['sex'] = df_all['sex'].replace(1, 0) # female 1 => 0  \n",
    "df_all['sex'] = df_all['sex'].replace(2, 1)  # male 2 => 1\n",
    "\n",
    "# no: 0, yes: 1\n",
    "df_all['pneumonia'] = df_all['pneumonia'].replace(2, 0)\n",
    "df_all['diabetes'] = df_all['diabetes'].replace(2, 0)\n",
    "df_all['copd'] = df_all['copd'].replace(2, 0)\n",
    "df_all['asthma'] = df_all['asthma'].replace(2, 0)\n",
    "df_all['inmsupr'] = df_all['inmsupr'].replace(2, 0)\n",
    "df_all['hypertension'] = df_all['hypertension'].replace(2, 0)\n",
    "df_all['other_disease'] = df_all['other_disease'].replace(2, 0)\n",
    "df_all['cardiovascular'] = df_all['cardiovascular'].replace(2, 0)\n",
    "df_all['obesity'] = df_all['obesity'].replace(2, 0)\n",
    "df_all['renal_chronic'] = df_all['renal_chronic'].replace(2, 0)\n",
    "df_all['tobacco'] = df_all['tobacco'].replace(2, 0)\n",
    "\n",
    "# no_icu: 2, yes_icu = 1\n",
    "df_all['icu'] = df_all['icu'].replace(2, 0) # no_icu 2 => 0\n",
    "\n",
    "# no_hospitalization: 1, yes_hospitalization = 2\n",
    "df_all['patient_type'] = df_all['patient_type'].replace(1, 0) # no_hospitalization 1 => 0\n",
    "df_all['patient_type'] = df_all['patient_type'].replace(2, 1) # yes_hospitalization 2 => 1\n",
    "\n",
    "# temporarily change age 97,98,99 to 997,998,998\n",
    "df_all['age'] = df_all['age'].replace(97, 997)\n",
    "df_all['age'] = df_all['age'].replace(98, 998)\n",
    "df_all['age'] = df_all['age'].replace(99, 999)\n",
    "\n",
    "# replace all unknown values (97, 98 and 99) with 2 in all columns including age column\n",
    "df_all = df_all.replace(97, 2)\n",
    "df_all = df_all.replace(98, 2)\n",
    "df_all = df_all.replace(99, 2)\n",
    "\n",
    "# change age 997,998,998 back to 97,98,99\n",
    "df_all['age'] = df_all['age'].replace(997, 97)\n",
    "df_all['age'] = df_all['age'].replace(998, 98)\n",
    "df_all['age'] = df_all['age'].replace(999, 99)\n",
    "\n",
    "print(\"Dataframe shape: \", df_all.shape)\n",
    "df_all.head()"
   ]
  },
  {
   "cell_type": "code",
   "execution_count": null,
   "metadata": {},
   "outputs": [],
   "source": [
    "# generate csv file\n",
    "\n",
    "df_all.to_csv (TARGET+'covid_cleaned.csv', index = False, header=True)"
   ]
  },
  {
   "cell_type": "code",
   "execution_count": null,
   "metadata": {
    "scrolled": true
   },
   "outputs": [],
   "source": [
    "# icu preprocssing\n",
    "\n",
    "df_icu = df_all[icu_columns].copy()\n",
    "\n",
    "# remove all rows that contain unknown values (== 2)\n",
    "df_icu = df_icu[\n",
    "                (df_icu.sex != 2) & \\\n",
    "                (df_icu.pneumonia != 2) & \\\n",
    "                (df_icu.diabetes != 2) & \\\n",
    "                (df_icu.copd != 2) & \\\n",
    "                (df_icu.asthma != 2) & \\\n",
    "                (df_icu.inmsupr != 2) & \\\n",
    "                (df_icu.hypertension != 2) & \\\n",
    "                (df_icu.other_disease != 2) & \\\n",
    "                (df_icu.cardiovascular != 2) & \\\n",
    "                (df_icu.obesity != 2) & \\\n",
    "                (df_icu.renal_chronic != 2) & \\\n",
    "                (df_icu.tobacco != 2) & \\\n",
    "                (df_icu.icu != 2)  # label\n",
    "            ]\n",
    "\n",
    "print(\"Dataframe shape: \", df_icu.shape)\n",
    "df_icu.head()"
   ]
  },
  {
   "cell_type": "code",
   "execution_count": null,
   "metadata": {},
   "outputs": [],
   "source": [
    "# generate csv file for icu prediction\n",
    "\n",
    "df_icu.to_csv (TARGET+'icu_cleaned.csv', index = False, header=True)\n",
    "df_icu.to_csv (TARGET+'cleaned_with_icu_preprocessed_no_noise_corrected.csv', index = False, header=True)"
   ]
  },
  {
   "cell_type": "code",
   "execution_count": null,
   "metadata": {
    "scrolled": true
   },
   "outputs": [],
   "source": [
    "# hospitalization preprocssing\n",
    "\n",
    "df_hospitalization = df_all[hospitalization_columns]\n",
    "\n",
    "# remove all rows that contain unknown values (== 2)\n",
    "df_hospitalization = df_hospitalization[\n",
    "                        (df_hospitalization.sex != 2) & \\\n",
    "                        (df_hospitalization.pneumonia != 2) & \\\n",
    "                        (df_hospitalization.diabetes != 2) & \\\n",
    "                        (df_hospitalization.copd != 2) & \\\n",
    "                        (df_hospitalization.asthma != 2) & \\\n",
    "                        (df_hospitalization.inmsupr != 2) & \\\n",
    "                        (df_hospitalization.hypertension != 2) & \\\n",
    "                        (df_hospitalization.other_disease != 2) & \\\n",
    "                        (df_hospitalization.cardiovascular != 2) & \\\n",
    "                        (df_hospitalization.obesity != 2) & \\\n",
    "                        (df_hospitalization.renal_chronic != 2) & \\\n",
    "                        (df_hospitalization.tobacco != 2) & \\\n",
    "                        (df_hospitalization.patient_type != 2) # label\n",
    "                    ]\n",
    "\n",
    "print(\"Dataframe shape: \", df_hospitalization.shape)\n",
    "df_hospitalization.head()"
   ]
  },
  {
   "cell_type": "code",
   "execution_count": null,
   "metadata": {},
   "outputs": [],
   "source": [
    "# generate csv file for hospitalization prediction\n",
    "\n",
    "df_hospitalization.to_csv (TARGET+'hospitalization_cleaned.csv', index = False, header=True)\n",
    "df_hospitalization.to_csv (TARGET+'cleaned_with_hosp_modified.csv', index = False, header=True)\n",
    "\n",
    "# generate sample batches\n",
    "\n",
    "df_hospitalization.sample(frac=0.01).to_csv(TARGET+'hospitalization_sample_1.csv', index=False, header=True)\n",
    "df_hospitalization.sample(frac=0.01).to_csv(TARGET+'hospitalization_sample_2.csv', index=False, header=True)\n",
    "df_hospitalization.sample(frac=0.01).to_csv(TARGET+'hospitalization_sample_3.csv', index=False, header=True)\n",
    "df_hospitalization.sample(frac=0.01).to_csv(TARGET+'hospitalization_sample_4.csv', index=False, header=True)\n",
    "df_hospitalization.sample(frac=0.01).to_csv(TARGET+'hospitalization_sample_5.csv', index=False, header=True)"
   ]
  },
  {
   "cell_type": "code",
   "execution_count": null,
   "metadata": {},
   "outputs": [],
   "source": [
    "#############################################################################################3"
   ]
  }
 ],
 "metadata": {
  "kernelspec": {
   "display_name": "Python 3",
   "language": "python",
   "name": "python3"
  },
  "language_info": {
   "codemirror_mode": {
    "name": "ipython",
    "version": 3
   },
   "file_extension": ".py",
   "mimetype": "text/x-python",
   "name": "python",
   "nbconvert_exporter": "python",
   "pygments_lexer": "ipython3",
   "version": "3.8.5"
  }
 },
 "nbformat": 4,
 "nbformat_minor": 4
}
